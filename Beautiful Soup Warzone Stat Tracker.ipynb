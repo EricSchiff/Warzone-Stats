{
 "cells": [
  {
   "cell_type": "markdown",
   "metadata": {},
   "source": [
    "Notebook was used to look up and record the lobby difficulty and the number of kills obtained in COD: Warzone from a stat tracking website. Since the website was shut down and then reformatted...the elements would need to be updated for this to work."
   ]
  },
  {
   "cell_type": "code",
   "execution_count": 59,
   "metadata": {
    "scrolled": false
   },
   "outputs": [
    {
     "name": "stdout",
     "output_type": "stream",
     "text": [
      "<!DOCTYPE html>\n",
      "<html lang=\"en\">\n",
      " <head>\n",
      "  <meta charset=\"utf-8\"/>\n",
      "  <meta content=\"IE=edge\" http-equiv=\"X-UA-Compatible\"/>\n",
      "  <meta content=\"yes\" name=\"apple-mobile-web-app-capable\"/>\n",
      "  <meta content=\"width=device-width, initial-scale=1\" name=\"viewport\"/>\n",
      "  <meta content=\"max-age=0\" http-equiv=\"cache-control\"/>\n",
      "  <meta content=\"no-store\" http-equiv=\"cache-control\"/>\n",
      "  <meta content=\"-1\" http-equiv=\"expires\"/>\n",
      "  <meta content=\"Tue, 01 Jan 1980 1:00:00 GMT\" http-equiv=\"expires\"/>\n",
      "  <meta content=\"no-cache\" http-equiv=\"pragma\"/>\n",
      "  <title>\n",
      "   SBMM Warzone – Find the level of your Warzone lobby\n",
      "  </title>\n",
      "  <meta content=\"Find the KD of your Warzone lobby. Compare your lobbies with those of your friends and professional players.\" name=\"description\"/>\n",
      "  <meta content=\"SBMM\" name=\"author\"/>\n",
      "  <meta content=\"SBMM 2020\" name=\"copyright\"/>\n",
      "  <meta content=\"SBMM Warzone\" name=\"application-name\"/>\n",
      "  <meta content=\"SBMM Warzone\" property=\"og:title\"/>\n",
      "  <meta content=\"website\" property=\"og:type\"/>\n",
      "  <meta content=\"https://sbmmwarzone.com/assets/img/sbmm-facebook.jpg\" property=\"og:image\"/>\n",
      "  <meta content=\"https://sbmmwarzone.com\" property=\"og:url\"/>\n",
      "  <meta content=\"Find the KD of your Warzone lobby. Compare your lobbies with those of your friends and professional players.\" property=\"og:description\"/>\n",
      "  <base href=\"/\"/>\n",
      "  <meta content=\"SBMM Warzone\" name=\"twitter:title\"/>\n",
      "  <meta content=\"summary_large_image\" name=\"twitter:card\"/>\n",
      "  <meta content=\"Find the KD of your Warzone lobby. Compare your lobbies with those of your friends and professional players.\" name=\"twitter:description\"/>\n",
      "  <meta content=\"https://sbmmwarzone.com/\" name=\"twitter:site\"/>\n",
      "  <meta content=\"https://sbmmwarzone.com/assets/img/sbmm-twitter.jpg\" name=\"twitter:image\"/>\n",
      "  <link href=\"assets/img/kdfinder-favicon.png\" rel=\"icon\" type=\"image/png\"/>\n",
      "  <script>\n",
      "   (function(w,d,s,l,i){w[l]=w[l]||[];w[l].push({'gtm.start':\n",
      "      new Date().getTime(),event:'gtm.js'});var f=d.getElementsByTagName(s)[0],\n",
      "    j=d.createElement(s),dl=l!='dataLayer'?'&l='+l:'';j.async=true;j.src=\n",
      "    'https://www.googletagmanager.com/gtm.js?id='+i+dl;f.parentNode.insertBefore(j,f);\n",
      "  })(window,document,'script','dataLayer','GTM-TSH2MKV');\n",
      "  </script>\n",
      "  <link href=\"https://fonts.gstatic.com\" rel=\"preconnect\"/>\n",
      "  <style type=\"text/css\">\n",
      "   @font-face{font-family:'Oswald';font-style:normal;font-weight:400;font-display:swap;src:url(https://fonts.gstatic.com/s/oswald/v35/TK3_WkUHHAIjg75cFRf3bXL8LICs1_FvgUI.woff) format('woff');}@font-face{font-family:'Oswald';font-style:normal;font-weight:700;font-display:swap;src:url(https://fonts.gstatic.com/s/oswald/v35/TK3_WkUHHAIjg75cFRf3bXL8LICs1xZogUI.woff) format('woff');}@font-face{font-family:'Oswald';font-style:normal;font-weight:400;font-display:swap;src:url(https://fonts.gstatic.com/s/oswald/v35/TK3IWkUHHAIjg75cFRf3bXL8LICs1_Fv40pKlN4NNSeSASz7FmlbHYjMdZwlou4.woff2) format('woff2');unicode-range:U+0460-052F, U+1C80-1C88, U+20B4, U+2DE0-2DFF, U+A640-A69F, U+FE2E-FE2F;}@font-face{font-family:'Oswald';font-style:normal;font-weight:400;font-display:swap;src:url(https://fonts.gstatic.com/s/oswald/v35/TK3IWkUHHAIjg75cFRf3bXL8LICs1_Fv40pKlN4NNSeSASz7FmlSHYjMdZwlou4.woff2) format('woff2');unicode-range:U+0400-045F, U+0490-0491, U+04B0-04B1, U+2116;}@font-face{font-family:'Oswald';font-style:normal;font-weight:400;font-display:swap;src:url(https://fonts.gstatic.com/s/oswald/v35/TK3IWkUHHAIjg75cFRf3bXL8LICs1_Fv40pKlN4NNSeSASz7FmlZHYjMdZwlou4.woff2) format('woff2');unicode-range:U+0102-0103, U+0110-0111, U+0128-0129, U+0168-0169, U+01A0-01A1, U+01AF-01B0, U+1EA0-1EF9, U+20AB;}@font-face{font-family:'Oswald';font-style:normal;font-weight:400;font-display:swap;src:url(https://fonts.gstatic.com/s/oswald/v35/TK3IWkUHHAIjg75cFRf3bXL8LICs1_Fv40pKlN4NNSeSASz7FmlYHYjMdZwlou4.woff2) format('woff2');unicode-range:U+0100-024F, U+0259, U+1E00-1EFF, U+2020, U+20A0-20AB, U+20AD-20CF, U+2113, U+2C60-2C7F, U+A720-A7FF;}@font-face{font-family:'Oswald';font-style:normal;font-weight:400;font-display:swap;src:url(https://fonts.gstatic.com/s/oswald/v35/TK3IWkUHHAIjg75cFRf3bXL8LICs1_Fv40pKlN4NNSeSASz7FmlWHYjMdZwl.woff2) format('woff2');unicode-range:U+0000-00FF, U+0131, U+0152-0153, U+02BB-02BC, U+02C6, U+02DA, U+02DC, U+2000-206F, U+2074, U+20AC, U+2122, U+2191, U+2193, U+2212, U+2215, U+FEFF, U+FFFD;}@font-face{font-family:'Oswald';font-style:normal;font-weight:700;font-display:swap;src:url(https://fonts.gstatic.com/s/oswald/v35/TK3IWkUHHAIjg75cFRf3bXL8LICs1_Fv40pKlN4NNSeSASz7FmlbHYjMdZwlou4.woff2) format('woff2');unicode-range:U+0460-052F, U+1C80-1C88, U+20B4, U+2DE0-2DFF, U+A640-A69F, U+FE2E-FE2F;}@font-face{font-family:'Oswald';font-style:normal;font-weight:700;font-display:swap;src:url(https://fonts.gstatic.com/s/oswald/v35/TK3IWkUHHAIjg75cFRf3bXL8LICs1_Fv40pKlN4NNSeSASz7FmlSHYjMdZwlou4.woff2) format('woff2');unicode-range:U+0400-045F, U+0490-0491, U+04B0-04B1, U+2116;}@font-face{font-family:'Oswald';font-style:normal;font-weight:700;font-display:swap;src:url(https://fonts.gstatic.com/s/oswald/v35/TK3IWkUHHAIjg75cFRf3bXL8LICs1_Fv40pKlN4NNSeSASz7FmlZHYjMdZwlou4.woff2) format('woff2');unicode-range:U+0102-0103, U+0110-0111, U+0128-0129, U+0168-0169, U+01A0-01A1, U+01AF-01B0, U+1EA0-1EF9, U+20AB;}@font-face{font-family:'Oswald';font-style:normal;font-weight:700;font-display:swap;src:url(https://fonts.gstatic.com/s/oswald/v35/TK3IWkUHHAIjg75cFRf3bXL8LICs1_Fv40pKlN4NNSeSASz7FmlYHYjMdZwlou4.woff2) format('woff2');unicode-range:U+0100-024F, U+0259, U+1E00-1EFF, U+2020, U+20A0-20AB, U+20AD-20CF, U+2113, U+2C60-2C7F, U+A720-A7FF;}@font-face{font-family:'Oswald';font-style:normal;font-weight:700;font-display:swap;src:url(https://fonts.gstatic.com/s/oswald/v35/TK3IWkUHHAIjg75cFRf3bXL8LICs1_Fv40pKlN4NNSeSASz7FmlWHYjMdZwl.woff2) format('woff2');unicode-range:U+0000-00FF, U+0131, U+0152-0153, U+02BB-02BC, U+02C6, U+02DA, U+02DC, U+2000-206F, U+2074, U+20AC, U+2122, U+2191, U+2193, U+2212, U+2215, U+FEFF, U+FFFD;}\n",
      "  </style>\n",
      "  <link href=\"styles.be3e740a679d2672e1e3.css\" rel=\"stylesheet\"/>\n",
      " </head>\n",
      " <body>\n",
      "  <noscript>\n",
      "   <iframe height=\"0\" src=\"https://www.googletagmanager.com/ns.html?id=GTM-TSH2MKV\" style=\"display:none;visibility:hidden\" width=\"0\">\n",
      "   </iframe>\n",
      "  </noscript>\n",
      "  <app-root>\n",
      "  </app-root>\n",
      "  <div id=\"div-gpt-ad-sbm-1\" style=\"display: none;\">\n",
      "  </div>\n",
      "  <script defer=\"\" src=\"runtime.c251cca70dfac6f7b254.js\">\n",
      "  </script>\n",
      "  <script defer=\"\" nomodule=\"\" src=\"polyfills-es5.f1a208e33f888cfcec7e.js\">\n",
      "  </script>\n",
      "  <script defer=\"\" src=\"polyfills.b14e433ce58620d76967.js\">\n",
      "  </script>\n",
      "  <script defer=\"\" src=\"scripts.684515600d5639d2cfa1.js\">\n",
      "  </script>\n",
      "  <script defer=\"\" src=\"main.54ba813e8750db25e65e.js\">\n",
      "  </script>\n",
      "  <link href=\"https://cdnjs.cloudflare.com/ajax/libs/font-awesome/5.13.1/css/all.min.css\" rel=\"stylesheet\"/>\n",
      " </body>\n",
      "</html>\n"
     ]
    }
   ],
   "source": [
    "import requests\n",
    "from bs4 import BeautifulSoup\n",
    "#update url with webpage for your account\n",
    "URL = \"https://sbmmwarzone.com/profile/USERNAME\"\n",
    "r = requests.get(URL)\n",
    "soup = BeautifulSoup(r.content, 'html5lib')\n",
    "\n",
    "games_element = soup.find_all('class', attrs = {'class':'game-session-matches'})\n",
    "\n",
    "print(soup.prettify())"
   ]
  },
  {
   "cell_type": "code",
   "execution_count": 35,
   "metadata": {},
   "outputs": [
    {
     "name": "stdout",
     "output_type": "stream",
     "text": [
      "['BR QUADS 03/14/21 17:17', '29', 'PLATINUM 1', 'KILLS', '1', 'DAMAGE', '555', 'GULAG', 'BR QUADS 03/14/21 17:06', '29', 'DIAMOND 4', 'KILLS', '1', 'DAMAGE', '254', 'GULAG', 'BR QUADS 03/14/21 16:43', '14', 'GOLD 1', 'KILLS', '2', 'DAMAGE', '920', 'GULAG', 'BR QUADS 03/14/21 16:27', '28', 'GOLD 1', 'KILLS', '4', 'DAMAGE', '1,343', 'GULAG', 'BR QUADS 03/14/21 16:15', '23', 'PLATINUM 3', 'KILLS', '1', 'DAMAGE', '697', 'GULAG', 'BR QUADS 03/14/21 16:02', '24', 'DIAMOND 1', 'KILLS', '4', 'DAMAGE', '1,770', 'GULAG', 'BR QUADS 03/14/21 15:32', '10', 'SILVER 1', 'KILLS', '0', 'DAMAGE', '659', 'GULAG', 'BR QUADS 03/14/21 14:58', '1', 'GOLD 1', 'KILLS', '5', 'DAMAGE', '3,432', 'GULAG', 'BR QUADS 03/14/21 14:51', '38', 'SILVER 3', 'KILLS', '0', 'DAMAGE', '108', 'GULAG', 'BR QUADS 03/14/21 14:22', '2', 'SILVER 2', 'KILLS', '3', 'DAMAGE', '1,730', 'GULAG', '-', 'BR TRIOS 03/14/21 14:12', '45', 'GOLD 2', 'KILLS', '0', 'DAMAGE', '18', 'GULAG']\n"
     ]
    }
   ],
   "source": [
    "sep_matches = matches.splitlines()\n",
    "print(sep_matches)"
   ]
  },
  {
   "cell_type": "code",
   "execution_count": 36,
   "metadata": {},
   "outputs": [],
   "source": [
    "for x in sep_matches:\n",
    "    if x == '-':\n",
    "        sep_matches.remove(x)\n",
    "        "
   ]
  },
  {
   "cell_type": "code",
   "execution_count": 37,
   "metadata": {},
   "outputs": [],
   "source": [
    "match_time = sep_matches[::8]\n",
    "placement = sep_matches[1::8]\n",
    "lobby = sep_matches[2::8]\n",
    "kills = sep_matches[4::8]\n",
    "damage = sep_matches[6::8]\n"
   ]
  },
  {
   "cell_type": "code",
   "execution_count": 51,
   "metadata": {},
   "outputs": [
    {
     "data": {
      "text/plain": [
       "dtype('int32')"
      ]
     },
     "execution_count": 51,
     "metadata": {},
     "output_type": "execute_result"
    }
   ],
   "source": [
    "import pandas as pd\n",
    "\n",
    "dic = {'Match Time': match_time, 'Placement': placement, 'Lobby Skill': lobby, 'Kills': kills, 'Damage': damage}\n",
    "\n",
    "eric_df= pd.DataFrame(dic)\n",
    "eric_df[\"Damage\"] = eric_df[\"Damage\"].str.replace(\",\", \"\")\n",
    "eric_df['Kills'] = eric_df['Kills'].astype(str).astype(int)\n",
    "eric_df['Damage'] = eric_df['Damage'].astype(str).astype(int)\n",
    "\n",
    "eric_df['Lobby Skill'] = eric_df['Lobby Skill'].str[:-2]\n",
    "\n",
    "eric_df['Damage'].dtype\n"
   ]
  },
  {
   "cell_type": "code",
   "execution_count": 52,
   "metadata": {},
   "outputs": [],
   "source": [
    "eric_df['Player Name'] = 'Eric'"
   ]
  },
  {
   "cell_type": "code",
   "execution_count": 53,
   "metadata": {},
   "outputs": [
    {
     "data": {
      "text/html": [
       "<div>\n",
       "<style scoped>\n",
       "    .dataframe tbody tr th:only-of-type {\n",
       "        vertical-align: middle;\n",
       "    }\n",
       "\n",
       "    .dataframe tbody tr th {\n",
       "        vertical-align: top;\n",
       "    }\n",
       "\n",
       "    .dataframe thead th {\n",
       "        text-align: right;\n",
       "    }\n",
       "</style>\n",
       "<table border=\"1\" class=\"dataframe\">\n",
       "  <thead>\n",
       "    <tr style=\"text-align: right;\">\n",
       "      <th></th>\n",
       "      <th>Match Time</th>\n",
       "      <th>Placement</th>\n",
       "      <th>Lobby Skill</th>\n",
       "      <th>Kills</th>\n",
       "      <th>Damage</th>\n",
       "      <th>Player Name</th>\n",
       "    </tr>\n",
       "  </thead>\n",
       "  <tbody>\n",
       "    <tr>\n",
       "      <th>0</th>\n",
       "      <td>BR QUADS 03/14/21 17:17</td>\n",
       "      <td>29</td>\n",
       "      <td>PLATINUM</td>\n",
       "      <td>1</td>\n",
       "      <td>555</td>\n",
       "      <td>Eric</td>\n",
       "    </tr>\n",
       "    <tr>\n",
       "      <th>1</th>\n",
       "      <td>BR QUADS 03/14/21 17:06</td>\n",
       "      <td>29</td>\n",
       "      <td>DIAMOND</td>\n",
       "      <td>1</td>\n",
       "      <td>254</td>\n",
       "      <td>Eric</td>\n",
       "    </tr>\n",
       "    <tr>\n",
       "      <th>2</th>\n",
       "      <td>BR QUADS 03/14/21 16:43</td>\n",
       "      <td>14</td>\n",
       "      <td>GOLD</td>\n",
       "      <td>2</td>\n",
       "      <td>920</td>\n",
       "      <td>Eric</td>\n",
       "    </tr>\n",
       "    <tr>\n",
       "      <th>3</th>\n",
       "      <td>BR QUADS 03/14/21 16:27</td>\n",
       "      <td>28</td>\n",
       "      <td>GOLD</td>\n",
       "      <td>4</td>\n",
       "      <td>1343</td>\n",
       "      <td>Eric</td>\n",
       "    </tr>\n",
       "    <tr>\n",
       "      <th>4</th>\n",
       "      <td>BR QUADS 03/14/21 16:15</td>\n",
       "      <td>23</td>\n",
       "      <td>PLATINUM</td>\n",
       "      <td>1</td>\n",
       "      <td>697</td>\n",
       "      <td>Eric</td>\n",
       "    </tr>\n",
       "    <tr>\n",
       "      <th>5</th>\n",
       "      <td>BR QUADS 03/14/21 16:02</td>\n",
       "      <td>24</td>\n",
       "      <td>DIAMOND</td>\n",
       "      <td>4</td>\n",
       "      <td>1770</td>\n",
       "      <td>Eric</td>\n",
       "    </tr>\n",
       "    <tr>\n",
       "      <th>6</th>\n",
       "      <td>BR QUADS 03/14/21 15:32</td>\n",
       "      <td>10</td>\n",
       "      <td>SILVER</td>\n",
       "      <td>0</td>\n",
       "      <td>659</td>\n",
       "      <td>Eric</td>\n",
       "    </tr>\n",
       "    <tr>\n",
       "      <th>7</th>\n",
       "      <td>BR QUADS 03/14/21 14:58</td>\n",
       "      <td>1</td>\n",
       "      <td>GOLD</td>\n",
       "      <td>5</td>\n",
       "      <td>3432</td>\n",
       "      <td>Eric</td>\n",
       "    </tr>\n",
       "    <tr>\n",
       "      <th>8</th>\n",
       "      <td>BR QUADS 03/14/21 14:51</td>\n",
       "      <td>38</td>\n",
       "      <td>SILVER</td>\n",
       "      <td>0</td>\n",
       "      <td>108</td>\n",
       "      <td>Eric</td>\n",
       "    </tr>\n",
       "    <tr>\n",
       "      <th>9</th>\n",
       "      <td>BR QUADS 03/14/21 14:22</td>\n",
       "      <td>2</td>\n",
       "      <td>SILVER</td>\n",
       "      <td>3</td>\n",
       "      <td>1730</td>\n",
       "      <td>Eric</td>\n",
       "    </tr>\n",
       "    <tr>\n",
       "      <th>10</th>\n",
       "      <td>BR TRIOS 03/14/21 14:12</td>\n",
       "      <td>45</td>\n",
       "      <td>GOLD</td>\n",
       "      <td>0</td>\n",
       "      <td>18</td>\n",
       "      <td>Eric</td>\n",
       "    </tr>\n",
       "  </tbody>\n",
       "</table>\n",
       "</div>"
      ],
      "text/plain": [
       "                 Match Time Placement Lobby Skill  Kills  Damage Player Name\n",
       "0   BR QUADS 03/14/21 17:17        29    PLATINUM      1     555        Eric\n",
       "1   BR QUADS 03/14/21 17:06        29     DIAMOND      1     254        Eric\n",
       "2   BR QUADS 03/14/21 16:43        14        GOLD      2     920        Eric\n",
       "3   BR QUADS 03/14/21 16:27        28        GOLD      4    1343        Eric\n",
       "4   BR QUADS 03/14/21 16:15        23    PLATINUM      1     697        Eric\n",
       "5   BR QUADS 03/14/21 16:02        24     DIAMOND      4    1770        Eric\n",
       "6   BR QUADS 03/14/21 15:32        10      SILVER      0     659        Eric\n",
       "7   BR QUADS 03/14/21 14:58         1        GOLD      5    3432        Eric\n",
       "8   BR QUADS 03/14/21 14:51        38      SILVER      0     108        Eric\n",
       "9   BR QUADS 03/14/21 14:22         2      SILVER      3    1730        Eric\n",
       "10  BR TRIOS 03/14/21 14:12        45        GOLD      0      18        Eric"
      ]
     },
     "execution_count": 53,
     "metadata": {},
     "output_type": "execute_result"
    }
   ],
   "source": [
    "eric_df"
   ]
  },
  {
   "cell_type": "code",
   "execution_count": 54,
   "metadata": {},
   "outputs": [
    {
     "data": {
      "text/plain": [
       "<seaborn.axisgrid.FacetGrid at 0x20d73b1ca90>"
      ]
     },
     "execution_count": 54,
     "metadata": {},
     "output_type": "execute_result"
    },
    {
     "data": {
      "image/png": "[encoded data removed]",
      "text/plain": [
       "<Figure size 449.5x360 with 1 Axes>"
      ]
     },
     "metadata": {
      "needs_background": "light"
     },
     "output_type": "display_data"
    }
   ],
   "source": [
    "import seaborn as sns\n",
    "import matplotlib as plt\n",
    "sns.relplot(data= eric_df,\n",
    "           x=\"Kills\", y= \"Damage\", hue= \"Lobby Skill\")\n"
   ]
  }
 ],
 "metadata": {
  "kernelspec": {
   "display_name": "Python 3",
   "language": "python",
   "name": "python3"
  },
  "language_info": {
   "codemirror_mode": {
    "name": "ipython",
    "version": 3
   },
   "file_extension": ".py",
   "mimetype": "text/x-python",
   "name": "python",
   "nbconvert_exporter": "python",
   "pygments_lexer": "ipython3",
   "version": "3.8.3"
  }
 },
 "nbformat": 4,
 "nbformat_minor": 4
}
